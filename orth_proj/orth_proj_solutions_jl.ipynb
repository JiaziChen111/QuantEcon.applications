{
 "cells": [
  {
   "cell_type": "markdown",
   "metadata": {},
   "source": [
    "# quant-econ Solutions: Orthogonal Projections\n",
    "\n",
    "Solutions for http://quant-econ.net/jl/orth_proj.html"
   ]
  },
  {
   "cell_type": "markdown",
   "metadata": {},
   "source": [
    "### Exercise 1\n",
    "\n",
    "If $x \\in S$ and $x \\in S^\\perp$, then we have in particular that $\\langle x, x \\rangle = 0$.  But then $x = 0$."
   ]
  },
  {
   "cell_type": "markdown",
   "metadata": {},
   "source": [
    "### Exercise 2\n",
    "\n",
    "Symmetry and idempotence of $M$ and $P$ can be established using standard rules for matrix algebra.  The intuition behind idempotence of $M$ and $P$ is that both are orthogonal projections.  After a point is projected into a given subspace, applying the projection again makes no difference.  (A point inside the subspace is not shifted by orthogonal projection onto that space because it is already the closest point in the subspace to itself.)"
   ]
  },
  {
   "cell_type": "markdown",
   "metadata": {},
   "source": [
    "### Exercise 3\n",
    "\n",
    "Here's a function that computes the orthonormal vectors using the GS algorithm given in the lecture."
   ]
  },
  {
   "cell_type": "code",
   "execution_count": 1,
   "metadata": {
    "collapsed": false
   },
   "outputs": [
    {
     "data": {
      "text/plain": [
       "gram_schmidt (generic function with 1 method)"
      ]
     },
     "execution_count": 1,
     "metadata": {},
     "output_type": "execute_result"
    }
   ],
   "source": [
    "\"\"\"\n",
    "Implements Gram-Schmidt orthogonalization.  \n",
    "\n",
    "Parameters\n",
    "----------\n",
    "X : an n x k array with linearly independent columns\n",
    "\n",
    "Returns\n",
    "-------\n",
    "U : an n x k array with orthonormal columns\n",
    "\n",
    "\"\"\"\n",
    "function gram_schmidt(X)\n",
    "    \n",
    "    n, k = size(X)\n",
    "    U = Array(Float64, (n, k))\n",
    "    I = eye(n)\n",
    "    \n",
    "    # The first col of U is just the normalized first col of X\n",
    "    v1 = X[:,1]  \n",
    "    U[:,1] = v1 / norm(v1)\n",
    "\n",
    "    for i in 2:k\n",
    "        # Set up\n",
    "        b = X[:,i]        # The vector we're going to project\n",
    "        Z = X[:, 1:i-1]   # first i-1 columns of X\n",
    "        \n",
    "        # Project onto the orthogonal complement of the col span of Z\n",
    "        M = I - Z * inv(Z' * Z) * Z'\n",
    "        u = M * b\n",
    "        \n",
    "        # Normalize\n",
    "        U[:,i] = u / norm(u)\n",
    "    end\n",
    "    \n",
    "    return U\n",
    "end"
   ]
  },
  {
   "cell_type": "markdown",
   "metadata": {},
   "source": [
    "Here are the arrays we'll work with"
   ]
  },
  {
   "cell_type": "code",
   "execution_count": 2,
   "metadata": {
    "collapsed": false
   },
   "outputs": [],
   "source": [
    "y = [1 3 -3]'\n",
    "X = [1 0; 0 -6; 2 2];"
   ]
  },
  {
   "cell_type": "markdown",
   "metadata": {},
   "source": [
    "First let's do ordinary projection of $y$ onto the basis spanned by the columns of $X$."
   ]
  },
  {
   "cell_type": "code",
   "execution_count": 3,
   "metadata": {
    "collapsed": false
   },
   "outputs": [
    {
     "data": {
      "text/plain": [
       "3x1 Array{Float64,2}:\n",
       " -0.565217\n",
       "  3.26087 \n",
       " -2.21739 "
      ]
     },
     "execution_count": 3,
     "metadata": {},
     "output_type": "execute_result"
    }
   ],
   "source": [
    "Py1 = X * inv(X' * X) * X' * y"
   ]
  },
  {
   "cell_type": "markdown",
   "metadata": {},
   "source": [
    "Now let's orthogonalize first, using Gram--Schmidt:"
   ]
  },
  {
   "cell_type": "code",
   "execution_count": 4,
   "metadata": {
    "collapsed": false
   },
   "outputs": [
    {
     "data": {
      "text/plain": [
       "3x2 Array{Float64,2}:\n",
       " 0.447214  -0.131876\n",
       " 0.0       -0.989071\n",
       " 0.894427   0.065938"
      ]
     },
     "execution_count": 4,
     "metadata": {},
     "output_type": "execute_result"
    }
   ],
   "source": [
    "U = gram_schmidt(X)"
   ]
  },
  {
   "cell_type": "markdown",
   "metadata": {},
   "source": [
    "Now we can project using the orthonormal basis and see if we get the same thing:"
   ]
  },
  {
   "cell_type": "code",
   "execution_count": 5,
   "metadata": {
    "collapsed": false
   },
   "outputs": [
    {
     "data": {
      "text/plain": [
       "3x1 Array{Float64,2}:\n",
       " -0.565217\n",
       "  3.26087 \n",
       " -2.21739 "
      ]
     },
     "execution_count": 5,
     "metadata": {},
     "output_type": "execute_result"
    }
   ],
   "source": [
    "Py2 = U * U' * y"
   ]
  },
  {
   "cell_type": "markdown",
   "metadata": {},
   "source": [
    "The result is the same.  To complete the exercise, we get an orthonormal basis by QR decomposition and project once more."
   ]
  },
  {
   "cell_type": "code",
   "execution_count": 6,
   "metadata": {
    "collapsed": false
   },
   "outputs": [
    {
     "data": {
      "text/plain": [
       "(\n",
       "3x2 Array{Float64,2}:\n",
       " -0.447214  -0.131876\n",
       "  0.0       -0.989071\n",
       " -0.894427   0.065938,\n",
       "\n",
       "2x2 Array{Float64,2}:\n",
       " -2.23607  -1.78885\n",
       "  0.0       6.0663 )"
      ]
     },
     "execution_count": 6,
     "metadata": {},
     "output_type": "execute_result"
    }
   ],
   "source": [
    "Q, R = qr(X)"
   ]
  },
  {
   "cell_type": "code",
   "execution_count": 7,
   "metadata": {
    "collapsed": false
   },
   "outputs": [
    {
     "data": {
      "text/plain": [
       "3x1 Array{Float64,2}:\n",
       " -0.565217\n",
       "  3.26087 \n",
       " -2.21739 "
      ]
     },
     "execution_count": 7,
     "metadata": {},
     "output_type": "execute_result"
    }
   ],
   "source": [
    "Py3 = Q * Q' * y"
   ]
  },
  {
   "cell_type": "markdown",
   "metadata": {
    "collapsed": true
   },
   "source": [
    "Again, the result is the same"
   ]
  },
  {
   "cell_type": "code",
   "execution_count": null,
   "metadata": {
    "collapsed": true
   },
   "outputs": [],
   "source": []
  }
 ],
 "metadata": {
  "kernelspec": {
   "display_name": "Julia 0.4.2",
   "language": "julia",
   "name": "julia-0.4"
  },
  "language_info": {
   "file_extension": ".jl",
   "mimetype": "application/julia",
   "name": "julia",
   "version": "0.4.2"
  }
 },
 "nbformat": 4,
 "nbformat_minor": 0
}
