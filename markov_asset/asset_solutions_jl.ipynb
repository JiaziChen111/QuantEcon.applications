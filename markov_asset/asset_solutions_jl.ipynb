{
 "cells": [
  {
   "cell_type": "markdown",
   "metadata": {},
   "source": [
    "# quant-econ Solutions: Markov Asset Pricing"
   ]
  },
  {
   "cell_type": "markdown",
   "metadata": {},
   "source": [
    "Solutions for http://quant-econ.net/jl/markov_asset.html"
   ]
  },
  {
   "cell_type": "markdown",
   "metadata": {},
   "source": [
    "Let's do some standard imports."
   ]
  },
  {
   "cell_type": "code",
   "execution_count": 1,
   "metadata": {
    "collapsed": false
   },
   "outputs": [
    {
     "data": {
      "text/plain": [
       "Plots.PlotlyJSBackend()"
      ]
     },
     "execution_count": 1,
     "metadata": {},
     "output_type": "execute_result"
    }
   ],
   "source": [
    "using QuantEcon\n",
    "using Plots\n",
    "plotlyjs()"
   ]
  },
  {
   "cell_type": "markdown",
   "metadata": {},
   "source": [
    "Next we load the code from the lectures into a cell to have access to the functions.  This next line assumes that you have the file `asset_pricing.jl` from [QuantEcon.applications](https://github.com/QuantEcon/QuantEcon.applications) in the same directory as this notebook."
   ]
  },
  {
   "cell_type": "code",
   "execution_count": 2,
   "metadata": {
    "collapsed": false
   },
   "outputs": [
    {
     "data": {
      "text/plain": [
       "call_option (generic function with 2 methods)"
      ]
     },
     "execution_count": 2,
     "metadata": {},
     "output_type": "execute_result"
    }
   ],
   "source": [
    "include(\"asset_pricing.jl\")  #  Assumes you have this file in the same directory as this notebook"
   ]
  },
  {
   "cell_type": "markdown",
   "metadata": {},
   "source": [
    "## Exercise 1"
   ]
  },
  {
   "cell_type": "code",
   "execution_count": 3,
   "metadata": {
    "collapsed": false
   },
   "outputs": [
    {
     "data": {
      "text/plain": [
       "150.0"
      ]
     },
     "execution_count": 3,
     "metadata": {},
     "output_type": "execute_result"
    }
   ],
   "source": [
    "n = 5\n",
    "P = 0.0125 .* ones(n, n)\n",
    "P = P .+ diagm(0.95 - 0.0125 .* ones(5))\n",
    "s = [0.95, 0.975, 1.0, 1.025, 1.05]  # state values\n",
    "mc = MarkovChain(P, s)\n",
    "\n",
    "gamma = 2.0\n",
    "beta = 0.94\n",
    "zeta = 1.0\n",
    "p_s = 150.0"
   ]
  },
  {
   "cell_type": "markdown",
   "metadata": {},
   "source": [
    "Next we'll create an instance of `AssetPriceModel` to feed into the functions."
   ]
  },
  {
   "cell_type": "code",
   "execution_count": 4,
   "metadata": {
    "collapsed": false
   },
   "outputs": [
    {
     "data": {
      "text/plain": [
       "AssetPriceModel(0.94,2.0,Discrete Markov Chain\n",
       "stochastic matrix of type Array{Float64,2}:\n",
       "5x5 Array{Float64,2}:\n",
       " 0.95    0.0125  0.0125  0.0125  0.0125\n",
       " 0.0125  0.95    0.0125  0.0125  0.0125\n",
       " 0.0125  0.0125  0.95    0.0125  0.0125\n",
       " 0.0125  0.0125  0.0125  0.95    0.0125\n",
       " 0.0125  0.0125  0.0125  0.0125  0.95  ,5,(anonymous function))"
      ]
     },
     "execution_count": 4,
     "metadata": {},
     "output_type": "execute_result"
    }
   ],
   "source": [
    "ap = AssetPriceModel(beta=beta, mc=mc, gamma=gamma, g=x -> x)"
   ]
  },
  {
   "cell_type": "code",
   "execution_count": 5,
   "metadata": {
    "collapsed": false
   },
   "outputs": [
    {
     "name": "stdout",
     "output_type": "stream",
     "text": [
      "Lucas Tree Prices: [29.474015777145,21.935706611219704,17.571422357262907,14.725150017725886,12.722217630644252]\n",
      "\n"
     ]
    }
   ],
   "source": [
    "v = tree_price(ap)\n",
    "println(\"Lucas Tree Prices: $v\\n\")"
   ]
  },
  {
   "cell_type": "code",
   "execution_count": 6,
   "metadata": {
    "collapsed": false
   },
   "outputs": [
    {
     "name": "stdout",
     "output_type": "stream",
     "text": [
      "Consol Bond Prices: [753.8710047641985,242.5514408198945,148.67554548466475,109.2510896502471,87.5686013853112]\n",
      "\n"
     ]
    }
   ],
   "source": [
    "v_consol = consol_price(ap, 1.0)\n",
    "println(\"Consol Bond Prices: $(v_consol)\\n\")"
   ]
  },
  {
   "cell_type": "code",
   "execution_count": 7,
   "metadata": {
    "collapsed": false
   },
   "outputs": [
    {
     "data": {
      "text/plain": [
       "5x1 Array{Float64,2}:\n",
       " 603.871 \n",
       " 176.839 \n",
       " 108.677 \n",
       "  80.0518\n",
       "  64.3084"
      ]
     },
     "execution_count": 7,
     "metadata": {},
     "output_type": "execute_result"
    }
   ],
   "source": [
    "w = call_option(ap, zeta, p_s)"
   ]
  },
  {
   "cell_type": "markdown",
   "metadata": {
    "collapsed": true
   },
   "source": [
    "## Exercise 2"
   ]
  },
  {
   "cell_type": "markdown",
   "metadata": {},
   "source": [
    "Here's a suitable function:"
   ]
  },
  {
   "cell_type": "code",
   "execution_count": 8,
   "metadata": {
    "collapsed": false
   },
   "outputs": [
    {
     "data": {
      "text/plain": [
       "finite_horizon_call_option (generic function with 1 method)"
      ]
     },
     "execution_count": 8,
     "metadata": {},
     "output_type": "execute_result"
    }
   ],
   "source": [
    "function finite_horizon_call_option(ap::AssetPriceModel, \n",
    "                                    zeta::Float64, \n",
    "                                    p_s::Float64, \n",
    "                                    k::Int)\n",
    "\n",
    "    # == Simplify names, set up matrices  == #\n",
    "    beta, gamma, P, y = ap.beta, ap.gamma, ap.mc.p, ap.mc.state_values\n",
    "    y = reshape(y, 1, ap.n)\n",
    "    M = P .* ap.g(y).^(- gamma)\n",
    "\n",
    "    # == Make sure that a unique console price exists == #\n",
    "    test_stability(ap, M)\n",
    "\n",
    "    # == Compute option price == #\n",
    "    p = consol_price(ap, zeta)\n",
    "    w = zeros(ap.n, 1)\n",
    "    for i in 1:k\n",
    "        # == Maximize across columns == #\n",
    "        w = max(beta * M * w, p - p_s)\n",
    "    end\n",
    "\n",
    "    return w\n",
    "end"
   ]
  },
  {
   "cell_type": "code",
   "execution_count": 9,
   "metadata": {
    "collapsed": false
   },
   "outputs": [
    {
     "ename": "LoadError",
     "evalue": "LoadError: UndefVarError: apm not defined\nwhile loading In[9], in expression starting on line 3",
     "output_type": "error",
     "traceback": [
      "LoadError: UndefVarError: apm not defined\nwhile loading In[9], in expression starting on line 3",
      "",
      " [inlined code] from In[9]:4",
      " in anonymous at no file:0"
     ]
    }
   ],
   "source": [
    "lines = []\n",
    "labels = []\n",
    "for k in [5, 25]\n",
    "    w = finite_horizon_call_option(apm, zeta, p_s, k)\n",
    "    push!(lines, w)\n",
    "    push!(labels, \"k = $k\")\n",
    "end\n",
    "plot(lines, labels=labels')"
   ]
  },
  {
   "cell_type": "markdown",
   "metadata": {},
   "source": [
    "Not surprisingly, the option has greater value with larger $k$.  This is because the owner has a longer time horizon over which he or she may exercise the option."
   ]
  },
  {
   "cell_type": "code",
   "execution_count": null,
   "metadata": {
    "collapsed": true
   },
   "outputs": [],
   "source": []
  }
 ],
 "metadata": {
  "kernelspec": {
   "display_name": "Julia 0.4.5",
   "language": "julia",
   "name": "julia-0.4"
  },
  "language_info": {
   "file_extension": ".jl",
   "mimetype": "application/julia",
   "name": "julia",
   "version": "0.4.6"
  }
 },
 "nbformat": 4,
 "nbformat_minor": 0
}
