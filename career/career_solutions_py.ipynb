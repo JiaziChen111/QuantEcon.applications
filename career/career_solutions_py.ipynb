{
 "cells": [
  {
   "cell_type": "markdown",
   "metadata": {},
   "source": [
    "# quant-econ Solutions: Modeling Career Choice"
   ]
  },
  {
   "cell_type": "markdown",
   "metadata": {},
   "source": [
    "Solutions for http://quant-econ.net/py/career.html"
   ]
  },
  {
   "cell_type": "code",
   "execution_count": 1,
   "metadata": {
    "collapsed": false
   },
   "outputs": [],
   "source": [
    "%matplotlib inline"
   ]
  },
  {
   "cell_type": "code",
   "execution_count": 2,
   "metadata": {
    "collapsed": false
   },
   "outputs": [],
   "source": [
    "import numpy as np\n",
    "import matplotlib.pyplot as plt\n",
    "from quantecon import DiscreteRV, compute_fixed_point\n",
    "from career import CareerWorkerProblem"
   ]
  },
  {
   "cell_type": "markdown",
   "metadata": {},
   "source": [
    "## Exercise 1"
   ]
  },
  {
   "cell_type": "markdown",
   "metadata": {},
   "source": [
    "\n",
    "Simulate job / career paths.  \n",
    "\n",
    "In reading the code, recall that `optimal_policy[i, j]` = policy at\n",
    "$(\\theta_i, \\epsilon_j)$ = either 1, 2 or 3; meaning 'stay put', 'new job' and\n",
    "'new life'.\n",
    "\n"
   ]
  },
  {
   "cell_type": "code",
   "execution_count": 3,
   "metadata": {
    "collapsed": false
   },
   "outputs": [
    {
     "data": {
      "image/png": "[encoded data removed]",
      "text/plain": [
       "<matplotlib.figure.Figure at 0x7f06258be898>"
      ]
     },
     "metadata": {},
     "output_type": "display_data"
    }
   ],
   "source": [
    "wp = CareerWorkerProblem()\n",
    "v_init = np.ones((wp.N, wp.N))*100\n",
    "v = compute_fixed_point(wp.bellman_operator, v_init, verbose=False)\n",
    "optimal_policy = wp.get_greedy(v)\n",
    "F = DiscreteRV(wp.F_probs)\n",
    "G = DiscreteRV(wp.G_probs)\n",
    "\n",
    "def gen_path(T=20):\n",
    "    i = j = 0  \n",
    "    theta_index = []\n",
    "    epsilon_index = []\n",
    "    for t in range(T):\n",
    "        if optimal_policy[i, j] == 1:    # Stay put\n",
    "            pass\n",
    "        elif optimal_policy[i, j] == 2:  # New job\n",
    "            j = int(G.draw())\n",
    "        else:                            # New life\n",
    "            i, j  = int(F.draw()), int(G.draw())\n",
    "        theta_index.append(i)\n",
    "        epsilon_index.append(j)\n",
    "    return wp.theta[theta_index], wp.epsilon[epsilon_index]\n",
    "\n",
    "theta_path, epsilon_path = gen_path()\n",
    "\n",
    "fig, axes = plt.subplots(2, 1, figsize=(10, 8))\n",
    "for ax in axes:\n",
    "    ax.plot(epsilon_path, label='epsilon')\n",
    "    ax.plot(theta_path, label='theta')\n",
    "    ax.legend(loc='lower right')\n",
    "\n",
    "plt.show()\n",
    "\n"
   ]
  },
  {
   "cell_type": "markdown",
   "metadata": {},
   "source": [
    "## Exercise 2"
   ]
  },
  {
   "cell_type": "markdown",
   "metadata": {},
   "source": [
    "The median for the original parameterization can be computed as follows"
   ]
  },
  {
   "cell_type": "code",
   "execution_count": 4,
   "metadata": {
    "collapsed": false
   },
   "outputs": [
    {
     "name": "stdout",
     "output_type": "stream",
     "text": [
      "Iteration    Distance       Elapsed (seconds)\n",
      "---------------------------------------------\n",
      "5            4.073e+00      9.388e-02         \n",
      "10           3.151e+00      1.871e-01         \n",
      "15           2.438e+00      2.811e-01         \n",
      "20           1.887e+00      3.741e-01         \n",
      "25           1.460e+00      4.675e-01         \n",
      "30           1.130e+00      5.603e-01         \n",
      "35           8.741e-01      6.537e-01         \n",
      "40           6.764e-01      7.467e-01         \n",
      "45           5.234e-01      8.400e-01         \n",
      "50           4.050e-01      9.336e-01         \n",
      "7.0\n"
     ]
    }
   ],
   "source": [
    "\n",
    "wp = CareerWorkerProblem()\n",
    "v_init = np.ones((wp.N, wp.N))*100\n",
    "v = compute_fixed_point(wp.bellman_operator, v_init)\n",
    "optimal_policy = wp.get_greedy(v)\n",
    "F = DiscreteRV(wp.F_probs)\n",
    "G = DiscreteRV(wp.G_probs)\n",
    "\n",
    "def gen_first_passage_time():\n",
    "    t = 0\n",
    "    i = j = 0\n",
    "    while 1:\n",
    "        if optimal_policy[i, j] == 1:    # Stay put\n",
    "            return t\n",
    "        elif optimal_policy[i, j] == 2:  # New job\n",
    "            j = int(G.draw())\n",
    "        else:                            # New life\n",
    "            i, j  = int(F.draw()), int(G.draw())\n",
    "        t += 1\n",
    "\n",
    "M = 25000 # Number of samples\n",
    "samples = np.empty(M)\n",
    "for i in range(M): \n",
    "    samples[i] = gen_first_passage_time()\n",
    "print(np.median(samples))\n"
   ]
  },
  {
   "cell_type": "markdown",
   "metadata": {},
   "source": [
    "To compute the median with $\\beta=0.99$ instead of the default value $\\beta=0.95$,\n",
    "replace `wp = CareerWorkerProblem()` with `wp = CareerWorkerProblem(beta=0.99)`\n",
    "\n",
    "The medians are subject to randomness, but should be about 7 and 11\n",
    "respectively.  Not surprisingly, more patient workers will wait longer to settle down to their final job\n",
    "\n"
   ]
  },
  {
   "cell_type": "markdown",
   "metadata": {},
   "source": [
    "## Exercise 3"
   ]
  },
  {
   "cell_type": "markdown",
   "metadata": {},
   "source": [
    "Here’s the code to reproduce the original figure"
   ]
  },
  {
   "cell_type": "code",
   "execution_count": 5,
   "metadata": {
    "collapsed": false
   },
   "outputs": [
    {
     "name": "stdout",
     "output_type": "stream",
     "text": [
      "Iteration    Distance       Elapsed (seconds)\n",
      "---------------------------------------------\n",
      "5            4.073e+00      9.415e-02         \n",
      "10           3.151e+00      1.866e-01         \n",
      "15           2.438e+00      2.793e-01         \n",
      "20           1.887e+00      3.721e-01         \n",
      "25           1.460e+00      4.647e-01         \n",
      "30           1.130e+00      5.568e-01         \n",
      "35           8.741e-01      6.499e-01         \n",
      "40           6.764e-01      7.424e-01         \n",
      "45           5.234e-01      8.348e-01         \n",
      "50           4.050e-01      9.276e-01         \n"
     ]
    },
    {
     "data": {
      "text/plain": [
       "<matplotlib.text.Text at 0x7f06233275f8>"
      ]
     },
     "execution_count": 5,
     "metadata": {},
     "output_type": "execute_result"
    },
    {
     "data": {
      "image/png": "[encoded data removed]",
      "text/plain": [
       "<matplotlib.figure.Figure at 0x7f06315517f0>"
      ]
     },
     "metadata": {},
     "output_type": "display_data"
    }
   ],
   "source": [
    "from matplotlib import cm\n",
    "\n",
    "wp = CareerWorkerProblem()\n",
    "v_init = np.ones((wp.N, wp.N))*100\n",
    "v = compute_fixed_point(wp.bellman_operator, v_init)\n",
    "optimal_policy = wp.get_greedy(v)\n",
    "\n",
    "fig, ax = plt.subplots(figsize=(6,6))\n",
    "tg, eg = np.meshgrid(wp.theta, wp.epsilon)\n",
    "lvls=(0.5, 1.5, 2.5, 3.5)\n",
    "ax.contourf(tg, eg, optimal_policy.T, levels=lvls, cmap=cm.winter, alpha=0.5)\n",
    "ax.contour(tg, eg, optimal_policy.T, colors='k', levels=lvls, linewidths=2)\n",
    "ax.set_xlabel('theta', fontsize=14)\n",
    "ax.set_ylabel('epsilon', fontsize=14)\n",
    "ax.text(1.8, 2.5, 'new life', fontsize=14)\n",
    "ax.text(4.5, 2.5, 'new job', fontsize=14, rotation='vertical')\n",
    "ax.text(4.0, 4.5, 'stay put', fontsize=14)\n",
    "\n"
   ]
  },
  {
   "cell_type": "markdown",
   "metadata": {},
   "source": [
    "Now we want to set `G_a = G_b = 100` and generate a new figure with these parameters. \n",
    "\n",
    "To do this replace:\n",
    "\n",
    "    wp = CareerWorkerProblem()\n",
    "\n",
    "with:\n",
    "\n",
    "    wp = CareerWorkerProblem(G_a=100, G_b=100)\n",
    "\n",
    "In the new figure, you will see that the region for which the worker will stay put has grown because the distribution for $\\epsilon$ has become more concentrated around the mean, making high-paying jobs less realistic\n"
   ]
  }
 ],
 "metadata": {
  "kernelspec": {
   "display_name": "Python 3",
   "language": "python",
   "name": "python3"
  },
  "language_info": {
   "codemirror_mode": {
    "name": "ipython",
    "version": 3
   },
   "file_extension": ".py",
   "mimetype": "text/x-python",
   "name": "python",
   "nbconvert_exporter": "python",
   "pygments_lexer": "ipython3",
   "version": "3.5.1"
  }
 },
 "nbformat": 4,
 "nbformat_minor": 0
}
