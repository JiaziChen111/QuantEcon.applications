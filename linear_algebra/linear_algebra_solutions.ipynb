{
 "cells": [
  {
   "cell_type": "markdown",
   "metadata": {},
   "source": [
    "# quant-econ Solutions: Finite Markov Chains"
   ]
  },
  {
   "cell_type": "markdown",
   "metadata": {},
   "source": [
    "Solutions for \n",
    "\n",
    "* http://quant-econ.net/py/linear_algebra.html\n",
    "\n",
    "* http://quant-econ.net/jl/linear_algebra.html"
   ]
  },
  {
   "cell_type": "markdown",
   "metadata": {},
   "source": [
    "Thanks to [Willem Hekman](http://willemhekman.nl/) and Guanlong Ren for providing this solution."
   ]
  },
  {
   "cell_type": "markdown",
   "metadata": {},
   "source": [
    "## Solution to Exercise 1"
   ]
  },
  {
   "cell_type": "markdown",
   "metadata": {
    "collapsed": true
   },
   "source": [
    "We have an optimization problem:\n",
    "\n",
    "$$ v(x) = \\max_{y,u} \\{ -y'Py - u'Qu \\} $$\n",
    "\n",
    "s.t.\n",
    "\n",
    "$$ y = Ax + Bu $$\n",
    "\n",
    "with primitives\n",
    "\n",
    "- $P$ be a symmetric and positive semidefinite $n \\times n$ matrix.\n",
    "\n",
    "- $Q$ be a symmetric and positive semidefinite $m \\times m$ matrix.\n",
    "\n",
    "- $A$ an $n \\times n$ matrix.\n",
    "\n",
    "- $B$ an $n \\times m$ matrix.\n",
    "\n",
    "\n",
    "The associated Lagrangian is :\n",
    "\n",
    "$$L = -y'Py - u'Qu + \\lambda' \\lbrack Ax + Bu - y \\rbrack$$\n",
    "\n",
    "### 1.\n",
    "\n",
    "Differentiating Lagrangian equation w.r.t y and setting its derivative equal to zero yields\n",
    "\n",
    "$$ \\frac{ \\partial L}{\\partial y} = - (P + P') y - \\lambda = - 2 P y - \\lambda = 0 \\:,$$\n",
    "since P is symmetric.\n",
    "\n",
    "Accordingly, the first-oder condition for maximizing L w.r.t. y implies\n",
    "\n",
    "$$ \\lambda = -2 Py \\:.$$\n",
    "\n",
    "\n",
    "\n",
    "### 2.\n",
    "\n",
    "Differentiating Lagrangian equation w.r.t. u and setting its derivative equal to zero yields\n",
    "\n",
    "$$ \\frac{ \\partial L}{\\partial u} = - (Q + Q') u - B'\\lambda = - 2Qu + B'\\lambda = 0 \\:.$$\n",
    "\n",
    "Substituting $\\lambda = -2 P y$ gives\n",
    "\n",
    "$$ Qu + B'Py = 0 \\:.$$\n",
    "\n",
    "\n",
    "Substituting the linear constraint $y = Ax + Bu$ into above equation gives\n",
    "\n",
    "$$ Qu + B'P(Ax + Bu) = 0  $$\n",
    "\n",
    "$$ (Q + B'PB)u + B'PAx = 0 $$\n",
    "which is the first-oder condition for maximizing L w.r.t. u.\n",
    "\n",
    "Thus, the optimial choice of u must satisfy\n",
    "\n",
    "$$ u = -(Q + B'PB)^{-1}B'PAx \\:,$$\n",
    "\n",
    "which follows from the definition of the first-oder conditions for Lagrangian equation. \n",
    "\n",
    "\n",
    "### 3.\n",
    "\n",
    "Rewriting our problem by substituting the constraint into the objective function, we get\n",
    "\n",
    "$$ v(x) = \\max_{u} \\{ -(Ax+ Bu)'P(Ax+Bu) - u'Qu \\} \\:.$$\n",
    "\n",
    "Since we know the optimial choice of u satisfies $ u = -(Q + B'PB)^{-1}B'PAx $, then \n",
    "\n",
    "$$ v(x) =  -(Ax+ B u)'P(Ax+B u) - u'Q u  \\,\\,\\,\\, with \\,\\,\\,\\, u = -(Q + B'PB)^{-1}B'PAx $$\n",
    "\n",
    "To evaluate the function\n",
    "\n",
    "\\begin{align}\n",
    "v(x) &=  -(Ax+ B u)'P(Ax+Bu) - u'Q u \\\\\n",
    "&= -(x'A' + u'B')P(Ax+Bu) - u'Q u \\\\\n",
    "&= - x'A'PAx - u'B'PAx - x'A'PBu - u'B'PBu - u'Qu \\\\\n",
    "&= - x'A'PAx - 2u'B'PAx - u'(Q + B'PB) u\n",
    "\\end{align}\n",
    "\n",
    "For simplicity, denote by $S := (Q + B'PB)^{-1} B'PA$,\n",
    "then $ u = -Sx$.\n",
    "\n",
    "Regarding the second term $- 2u'B'PAx$, \n",
    "\n",
    "\\begin{align}\n",
    "- 2u'B'PAx &= -2 x'S'B'PAx  \\\\\n",
    "& = 2 x'A'PB( Q + B'PB)^{-1} B'PAx\n",
    "\\end{align}\n",
    "Notice that the term $(Q + B'PB)^{-1}$ is symmetic as both P and Q are symmetric.\n",
    "\n",
    "\n",
    "Regarding the third term $- u'(Q + B'PB) u$,\n",
    "\n",
    "\\begin{align}\n",
    "- u'(Q + B'PB) u &= - x'S' (Q + B'PB)Sx \\\\\n",
    "&= -x'A'PB(Q + B'PB)^{-1}B'PAx\n",
    "\\end{align}\n",
    "\n",
    "Hence, the summation of second and third terms is $x'A'PB(Q + B'PB)^{-1}B'PAx$.\n",
    "\n",
    "This implies that \n",
    "\n",
    "\\begin{align}\n",
    " v(x) &= - x'A'PAx - 2u'B'PAx - u'(Q + B'PB) u\\\\\n",
    " &= - x'A'PAx + x'A'PB(Q + B'PB)^{-1}B'PAx \\\\\n",
    " &= -x'[A'PA - A'PB(Q + B'PB)^{-1}B'PA] x\n",
    "\\end{align}\n",
    "\n",
    "Therefore, the solution to the optimization problem $v(x) = -x' \\tilde{P}x$ follows the above result by denoting $\\tilde{P} := A'PA - A'PB(Q + B'PB)^{-1}B'PA$.\n"
   ]
  },
  {
   "cell_type": "code",
   "execution_count": null,
   "metadata": {
    "collapsed": true
   },
   "outputs": [],
   "source": []
  }
 ],
 "metadata": {
  "anaconda-cloud": {},
  "kernelspec": {
   "display_name": "Python 3",
   "language": "python",
   "name": "python3"
  },
  "language_info": {
   "codemirror_mode": {
    "name": "ipython",
    "version": 3
   },
   "file_extension": ".py",
   "mimetype": "text/x-python",
   "name": "python",
   "nbconvert_exporter": "python",
   "pygments_lexer": "ipython3",
   "version": "3.5.1"
  }
 },
 "nbformat": 4,
 "nbformat_minor": 0
}
